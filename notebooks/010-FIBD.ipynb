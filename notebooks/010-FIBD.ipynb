{
 "cells": [
  {
   "cell_type": "markdown",
   "metadata": {},
   "source": [
    "# Mortal Fibonacci Rabbits\n",
    "\n",
    "https://rosalind.info/problems/fibd/"
   ]
  },
  {
   "cell_type": "code",
   "execution_count": 1,
   "metadata": {},
   "outputs": [
    {
     "name": "stdout",
     "output_type": "stream",
     "text": [
      "3.9.13 (tags/v3.9.13:6de2ca5, May 17 2022, 16:36:42) [MSC v.1929 64 bit (AMD64)]\n"
     ]
    }
   ],
   "source": [
    "import sys\n",
    "print(sys.version)"
   ]
  },
  {
   "cell_type": "markdown",
   "metadata": {},
   "source": [
    "## Solutions"
   ]
  },
  {
   "cell_type": "markdown",
   "metadata": {},
   "source": [
    "### Memoization"
   ]
  },
  {
   "cell_type": "code",
   "execution_count": 3,
   "metadata": {},
   "outputs": [
    {
     "data": {
      "text/plain": [
       "4"
      ]
     },
     "execution_count": 3,
     "metadata": {},
     "output_type": "execute_result"
    }
   ],
   "source": [
    "def fib_m(n, m, memo=None):\n",
    "    if memo is None:\n",
    "        memo = {}\n",
    "    # If result is already in the memo, return it\n",
    "    if n in memo:\n",
    "        return memo[n]\n",
    "    # Base cases\n",
    "    if n <= 2:\n",
    "        return 1\n",
    "    # If n is less than or equal to m, it behaves like regular Fibonacci\n",
    "    if n <= m:\n",
    "        result = fib_m(n-1, m, memo) + fib_m(n-2, m, memo)\n",
    "    # For n > m, subtract the rabbits that die after m months\n",
    "    else:\n",
    "        result = fib_m(n-1, m, memo) + fib_m(n-2, m, memo) - fib_m(n-m-1, m, memo)\n",
    "    # Store the result in the memo and return it\n",
    "    memo[n] = result\n",
    "    return result\n",
    "\n",
    "n, m = 6, 3\n",
    "print(fib_m(n, m))"
   ]
  },
  {
   "cell_type": "markdown",
   "metadata": {},
   "source": [
    "## Dynamic programming"
   ]
  },
  {
   "cell_type": "code",
   "execution_count": 10,
   "metadata": {},
   "outputs": [
    {
     "name": "stdout",
     "output_type": "stream",
     "text": [
      "4\n"
     ]
    }
   ],
   "source": [
    "def fib_m(n, m):\n",
    "    # Create a list to store the number of rabbit pairs for each month\n",
    "    rabbits = [0] * (n + 1)\n",
    "    \n",
    "    # Initialize the first and second month\n",
    "    rabbits[1] = 1\n",
    "    rabbits[2] = 1\n",
    "\n",
    "    # Calculate the number of rabbit pairs for each subsequent month\n",
    "    for i in range(3, n + 1):\n",
    "        # If the month is less than or equal to the lifespan m, then it's the usual fibonacci addition\n",
    "        if i <= m:\n",
    "            rabbits[i] = rabbits[i - 1] + rabbits[i - 2]\n",
    "        # # If the month is exactly one more than the lifespan, subtract the first month's rabbits (which is 1)\n",
    "        elif i == m + 1:\n",
    "            rabbits[i] = rabbits[i - 1] + rabbits[i - 2] - 1\n",
    "        # For all other months, subtract the rabbits that are m months old\n",
    "        else:\n",
    "            rabbits[i] = rabbits[i - 1] + rabbits[i - 2] - rabbits[i - m - 1]\n",
    "    \n",
    "    return rabbits[n]\n",
    "\n",
    "print(fib_m(6, 3))"
   ]
  }
 ],
 "metadata": {
  "kernelspec": {
   "display_name": "Python 3",
   "language": "python",
   "name": "python3"
  },
  "language_info": {
   "codemirror_mode": {
    "name": "ipython",
    "version": 3
   },
   "file_extension": ".py",
   "mimetype": "text/x-python",
   "name": "python",
   "nbconvert_exporter": "python",
   "pygments_lexer": "ipython3",
   "version": "3.9.13"
  },
  "orig_nbformat": 4
 },
 "nbformat": 4,
 "nbformat_minor": 2
}
