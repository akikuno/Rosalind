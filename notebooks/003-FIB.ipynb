{
 "cells": [
  {
   "cell_type": "markdown",
   "metadata": {},
   "source": [
    "# Rabbits and Recurrence Relations\n",
    "\n",
    "https://rosalind.info/problems/fib/"
   ]
  },
  {
   "cell_type": "code",
   "execution_count": 1,
   "metadata": {},
   "outputs": [
    {
     "name": "stdout",
     "output_type": "stream",
     "text": [
      "3.9.13 (tags/v3.9.13:6de2ca5, May 17 2022, 16:36:42) [MSC v.1929 64 bit (AMD64)]\n"
     ]
    }
   ],
   "source": [
    "import sys\n",
    "print(sys.version)"
   ]
  },
  {
   "cell_type": "markdown",
   "metadata": {},
   "source": [
    "## Solution"
   ]
  },
  {
   "cell_type": "markdown",
   "metadata": {},
   "source": [
    "### Memoization"
   ]
  },
  {
   "cell_type": "code",
   "execution_count": 16,
   "metadata": {},
   "outputs": [],
   "source": [
    "def fib(n, k=1, memo=None):\n",
    "    if memo is None:\n",
    "        memo = {}\n",
    "    if n in memo:\n",
    "        return memo[n]\n",
    "    if n == 0:\n",
    "        return 0\n",
    "    if n == 1:\n",
    "        return 1\n",
    "    memo[n] = fib(n - 1, k, memo) + fib(n - 2, k, memo) * k\n",
    "    return memo[n]\n"
   ]
  },
  {
   "cell_type": "code",
   "execution_count": 10,
   "metadata": {},
   "outputs": [
    {
     "name": "stdout",
     "output_type": "stream",
     "text": [
      "19\n"
     ]
    }
   ],
   "source": [
    "n, k = 5, 3\n",
    "print(fib(n, k))"
   ]
  },
  {
   "cell_type": "markdown",
   "metadata": {},
   "source": [
    "### Dynamic programming"
   ]
  },
  {
   "cell_type": "code",
   "execution_count": 13,
   "metadata": {},
   "outputs": [],
   "source": [
    "def fib(n, k=1):\n",
    "    if n == 0:\n",
    "        return 0\n",
    "    if n == 1:\n",
    "        return 1\n",
    "\n",
    "    # Initialize the sequence\n",
    "    fib_n_minus_2 = 0\n",
    "    fib_n_minus_1 = 1\n",
    "\n",
    "    for _ in range(2, n+1):\n",
    "        fib_n = fib_n_minus_1 + fib_n_minus_2 * k\n",
    "        fib_n_minus_2, fib_n_minus_1 = fib_n_minus_1, fib_n\n",
    "\n",
    "    return fib_n"
   ]
  },
  {
   "cell_type": "code",
   "execution_count": 14,
   "metadata": {},
   "outputs": [
    {
     "name": "stdout",
     "output_type": "stream",
     "text": [
      "19\n"
     ]
    }
   ],
   "source": [
    "n, k = 5, 3\n",
    "print(fib(n, k))"
   ]
  },
  {
   "cell_type": "markdown",
   "metadata": {},
   "source": [
    "### Binary Exponentiation"
   ]
  },
  {
   "cell_type": "code",
   "execution_count": 15,
   "metadata": {},
   "outputs": [],
   "source": [
    "import numpy as np\n",
    "\n",
    "def matrix_mul(A, B, k):\n",
    "    B_scaled = B.copy()\n",
    "    B_scaled[1, 0] *= k\n",
    "    return np.dot(A, B_scaled)\n",
    "\n",
    "def matrix_pow(M, n, k):\n",
    "    if n == 1:\n",
    "        return M\n",
    "    if n % 2:\n",
    "        return matrix_mul(M, matrix_pow(M, n-1, k), k)\n",
    "    half_pow = matrix_pow(M, n//2, k)\n",
    "    return matrix_mul(half_pow, half_pow, k)\n",
    "\n",
    "def fib(n, k=1):\n",
    "    if n == 0:\n",
    "        return 0\n",
    "    if n == 1:\n",
    "        return 1\n",
    "    Q = np.array([[1, 1], [1, 0]])\n",
    "    result = matrix_pow(Q, n-1, k)\n",
    "    return result[0, 0]\n"
   ]
  },
  {
   "cell_type": "code",
   "execution_count": 16,
   "metadata": {},
   "outputs": [
    {
     "name": "stdout",
     "output_type": "stream",
     "text": [
      "19\n"
     ]
    }
   ],
   "source": [
    "n, k = 5, 3\n",
    "print(fib(n, k))"
   ]
  }
 ],
 "metadata": {
  "kernelspec": {
   "display_name": "Python 3",
   "language": "python",
   "name": "python3"
  },
  "language_info": {
   "codemirror_mode": {
    "name": "ipython",
    "version": 3
   },
   "file_extension": ".py",
   "mimetype": "text/x-python",
   "name": "python",
   "nbconvert_exporter": "python",
   "pygments_lexer": "ipython3",
   "version": "3.9.13"
  },
  "orig_nbformat": 4
 },
 "nbformat": 4,
 "nbformat_minor": 2
}
