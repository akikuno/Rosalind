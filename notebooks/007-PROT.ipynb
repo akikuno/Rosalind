{
 "cells": [
  {
   "cell_type": "markdown",
   "metadata": {},
   "source": [
    "# Translating RNA into Protein\n",
    "\n",
    "https://rosalind.info/problems/prot/"
   ]
  },
  {
   "cell_type": "code",
   "execution_count": 1,
   "metadata": {},
   "outputs": [
    {
     "name": "stdout",
     "output_type": "stream",
     "text": [
      "3.9.5 (tags/v3.9.5:0a7dcbd, May  3 2021, 17:27:52) [MSC v.1928 64 bit (AMD64)]\n"
     ]
    }
   ],
   "source": [
    "import sys\n",
    "print(sys.version)"
   ]
  },
  {
   "cell_type": "markdown",
   "metadata": {},
   "source": [
    "## Solutions"
   ]
  },
  {
   "cell_type": "code",
   "execution_count": 3,
   "metadata": {},
   "outputs": [
    {
     "name": "stdout",
     "output_type": "stream",
     "text": [
      "MAMAPRTEINSTRING\n"
     ]
    }
   ],
   "source": [
    "rna_codon_table = {\n",
    "    'UUU': 'F', 'CUU': 'L', 'AUU': 'I', 'GUU': 'V',\n",
    "    'UUC': 'F', 'CUC': 'L', 'AUC': 'I', 'GUC': 'V',\n",
    "    'UUA': 'L', 'CUA': 'L', 'AUA': 'I', 'GUA': 'V',\n",
    "    'UUG': 'L', 'CUG': 'L', 'AUG': 'M', 'GUG': 'V',\n",
    "    'UCU': 'S', 'CCU': 'P', 'ACU': 'T', 'GCU': 'A',\n",
    "    'UCC': 'S', 'CCC': 'P', 'ACC': 'T', 'GCC': 'A',\n",
    "    'UCA': 'S', 'CCA': 'P', 'ACA': 'T', 'GCA': 'A',\n",
    "    'UCG': 'S', 'CCG': 'P', 'ACG': 'T', 'GCG': 'A',\n",
    "    'UAU': 'Y', 'CAU': 'H', 'AAU': 'N', 'GAU': 'D',\n",
    "    'UAC': 'Y', 'CAC': 'H', 'AAC': 'N', 'GAC': 'D',\n",
    "    'UAA': 'Stop', 'CAA': 'Q', 'AAA': 'K', 'GAA': 'E',\n",
    "    'UAG': 'Stop', 'CAG': 'Q', 'AAG': 'K', 'GAG': 'E',\n",
    "    'UGU': 'C', 'CGU': 'R', 'AGU': 'S', 'GGU': 'G',\n",
    "    'UGC': 'C', 'CGC': 'R', 'AGC': 'S', 'GGC': 'G',\n",
    "    'UGA': 'Stop', 'CGA': 'R', 'AGA': 'R', 'GGA': 'G',\n",
    "    'UGG': 'W', 'CGG': 'R', 'AGG': 'R', 'GGG': 'G'\n",
    "}\n",
    "\n",
    "def rna_to_protein(rna_string: str) -> str:\n",
    "    # Split the RNA string into codons\n",
    "    codons = [rna_string[i:i+3] for i in range(0, len(rna_string), 3)]\n",
    "    # Convert codons to amino acids using the RNA codon table\n",
    "    protein_string = ''.join([rna_codon_table[codon] for codon in codons if rna_codon_table[codon] != 'Stop'])\n",
    "    return protein_string\n",
    "\n",
    "sample_rna = \"AUGGCCAUGGCGCCCAGAACUGAGAUCAAUAGUACCCGUAUUAACGGGUGA\"\n",
    "print(rna_to_protein(sample_rna))"
   ]
  }
 ],
 "metadata": {
  "kernelspec": {
   "display_name": "Python 3",
   "language": "python",
   "name": "python3"
  },
  "language_info": {
   "codemirror_mode": {
    "name": "ipython",
    "version": 3
   },
   "file_extension": ".py",
   "mimetype": "text/x-python",
   "name": "python",
   "nbconvert_exporter": "python",
   "pygments_lexer": "ipython3",
   "version": "3.9.5"
  },
  "orig_nbformat": 4
 },
 "nbformat": 4,
 "nbformat_minor": 2
}
