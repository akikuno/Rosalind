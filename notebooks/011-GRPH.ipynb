{
 "cells": [
  {
   "cell_type": "markdown",
   "metadata": {},
   "source": [
    "# Overlap Graphs\n",
    "\n",
    "https://rosalind.info/problems/grph/"
   ]
  },
  {
   "cell_type": "code",
   "execution_count": 1,
   "metadata": {},
   "outputs": [
    {
     "name": "stdout",
     "output_type": "stream",
     "text": [
      "3.9.13 (tags/v3.9.13:6de2ca5, May 17 2022, 16:36:42) [MSC v.1929 64 bit (AMD64)]\n"
     ]
    }
   ],
   "source": [
    "import sys\n",
    "print(sys.version)"
   ]
  },
  {
   "cell_type": "markdown",
   "metadata": {},
   "source": [
    "## Solutions"
   ]
  },
  {
   "cell_type": "markdown",
   "metadata": {},
   "source": [
    "### Simple solution O(N^2)"
   ]
  },
  {
   "cell_type": "code",
   "execution_count": 18,
   "metadata": {},
   "outputs": [
    {
     "name": "stdout",
     "output_type": "stream",
     "text": [
      "Rosalind_0498 Rosalind_2391\n",
      "Rosalind_0498 Rosalind_0442\n",
      "Rosalind_2391 Rosalind_2323\n"
     ]
    }
   ],
   "source": [
    "def parse_fasta(fasta_str: str) -> dict:\n",
    "    entries = fasta_str.split('>')\n",
    "    fasta_dict = {}\n",
    "    for entry in entries[1:]:\n",
    "        lines = entry.strip().split('\\n')\n",
    "        header = lines[0]\n",
    "        sequence = ''.join(lines[1:])\n",
    "        fasta_dict[header] = sequence\n",
    "    return fasta_dict\n",
    "\n",
    "\n",
    "def overlap_graph(data: str, k: int = 3) -> list[tuple[str, str]]:\n",
    "    \"\"\"\n",
    "    Find the overlap graph for the given DNA strings in FASTA format\n",
    "    \"\"\"\n",
    "    parsed_data = parse_fasta(data)\n",
    "    adjacency_list = []\n",
    "    for i, (label1, seq1) in enumerate(parsed_data.items()):\n",
    "        for j, (label2, seq2) in enumerate(parsed_data.items()):\n",
    "            if i != j and seq1[-k:] == seq2[:k]:\n",
    "                adjacency_list.append((label1, label2))\n",
    "    return adjacency_list\n",
    "\n",
    "fasta = \"\"\"\n",
    ">Rosalind_0498\n",
    "AAATAAA\n",
    ">Rosalind_2391\n",
    "AAATTTT\n",
    ">Rosalind_2323\n",
    "TTTTCCC\n",
    ">Rosalind_0442\n",
    "AAATCCC\n",
    ">Rosalind_5013\n",
    "GGGTGGG\n",
    "\"\"\"\n",
    "\n",
    "for ans in overlap_graph(fasta):\n",
    "    print(*ans)"
   ]
  },
  {
   "cell_type": "markdown",
   "metadata": {},
   "source": [
    "## O(nlogn) 🚧"
   ]
  },
  {
   "cell_type": "code",
   "execution_count": 19,
   "metadata": {},
   "outputs": [
    {
     "name": "stdout",
     "output_type": "stream",
     "text": [
      "Rosalind_0498 Rosalind_0442\n",
      "Rosalind_0498 Rosalind_2391\n",
      "Rosalind_2391 Rosalind_2323\n"
     ]
    }
   ],
   "source": [
    "import bisect\n",
    "\n",
    "def build_suffix_array(strings: list[str]) -> list[Tuple[str, int]]:\n",
    "    \"\"\"\n",
    "    Build a suffix array for a list of strings. \n",
    "    Each entry in the suffix array is a tuple (suffix, index) \n",
    "    where 'index' is the index of the string from which the suffix originates.\n",
    "    \"\"\"\n",
    "    suffixes = []\n",
    "    for idx, s in enumerate(strings):\n",
    "        for i in range(len(s)):\n",
    "            suffixes.append((s[i:], idx))\n",
    "    suffixes.sort()\n",
    "    return suffixes\n",
    "\n",
    "def overlap_graph_bisect(data: str, k: int = 3) -> list[tuple[str, str]]:\n",
    "    \"\"\"\n",
    "    Find the overlap graph for the given DNA strings in FASTA format using a suffix array and bisect module.\n",
    "    \"\"\"\n",
    "    parsed_data = parse_fasta(data)\n",
    "    labels = [label for label, _ in parsed_data.items()]\n",
    "    sequences = [seq for _, seq in parsed_data.items()]\n",
    "\n",
    "    # Build the suffix array\n",
    "    suffix_array = build_suffix_array(sequences)\n",
    "\n",
    "    adjacency_list = []\n",
    "    for i, seq in enumerate(sequences):\n",
    "        # Extract the k-mer from the end of the sequence\n",
    "        kmer = seq[-k:]\n",
    "        \n",
    "        # Use bisect_left to find the position of the k-mer in the suffix array\n",
    "        pos = bisect.bisect_left(suffix_array, (kmer,))\n",
    "        while pos < len(suffix_array) and suffix_array[pos][0][:k] == kmer:\n",
    "            # Ensure the matching entry is a prefix of another sequence\n",
    "            if suffix_array[pos][1] != i and suffix_array[pos][0].startswith(kmer) and len(suffix_array[pos][0]) > k:\n",
    "                edge = (labels[i], labels[suffix_array[pos][1]])\n",
    "                if edge not in adjacency_list:\n",
    "                    adjacency_list.append(edge)\n",
    "            pos += 1\n",
    "                \n",
    "    return adjacency_list\n",
    "\n",
    "for ans in overlap_graph_bisect(fasta):\n",
    "    print(*ans)\n"
   ]
  }
 ],
 "metadata": {
  "kernelspec": {
   "display_name": "Python 3",
   "language": "python",
   "name": "python3"
  },
  "language_info": {
   "codemirror_mode": {
    "name": "ipython",
    "version": 3
   },
   "file_extension": ".py",
   "mimetype": "text/x-python",
   "name": "python",
   "nbconvert_exporter": "python",
   "pygments_lexer": "ipython3",
   "version": "3.9.13"
  },
  "orig_nbformat": 4
 },
 "nbformat": 4,
 "nbformat_minor": 2
}
