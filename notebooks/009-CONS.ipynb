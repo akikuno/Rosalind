{
 "cells": [
  {
   "cell_type": "markdown",
   "metadata": {},
   "source": [
    "# Consensus and Profile\n",
    "\n",
    "https://rosalind.info/problems/cons/"
   ]
  },
  {
   "cell_type": "code",
   "execution_count": 14,
   "metadata": {},
   "outputs": [
    {
     "name": "stdout",
     "output_type": "stream",
     "text": [
      "3.9.13 (tags/v3.9.13:6de2ca5, May 17 2022, 16:36:42) [MSC v.1929 64 bit (AMD64)]\n"
     ]
    }
   ],
   "source": [
    "import sys\n",
    "print(sys.version)"
   ]
  },
  {
   "cell_type": "markdown",
   "metadata": {},
   "source": [
    "## Solutions"
   ]
  },
  {
   "cell_type": "markdown",
   "metadata": {},
   "source": [
    "### Simple solution"
   ]
  },
  {
   "cell_type": "code",
   "execution_count": 11,
   "metadata": {},
   "outputs": [
    {
     "name": "stdout",
     "output_type": "stream",
     "text": [
      "ATGCAACT\n",
      "A: 5 1 0 0 5 5 0 0\n",
      "C: 0 0 1 4 2 0 6 1\n",
      "G: 1 1 6 3 0 1 0 0\n",
      "T: 1 5 0 0 0 1 1 6\n"
     ]
    }
   ],
   "source": [
    "from collections import defaultdict\n",
    "\n",
    "def parse_fasta(fasta_str: str) -> dict:\n",
    "    entries = fasta_str.split('>')\n",
    "    fasta_dict = {}\n",
    "    for entry in entries[1:]:\n",
    "        lines = entry.strip().split('\\n')\n",
    "        header = lines[0]\n",
    "        sequence = ''.join(lines[1:])\n",
    "        fasta_dict[header] = sequence\n",
    "    return fasta_dict\n",
    "\n",
    "\n",
    "def consensus_and_profile(dna_strings: list[str]) -> tuple[str, dict[str, dict[int, int]]]:\n",
    "    \"\"\"Compute the consensus string and profile matrix.\"\"\"\n",
    "    profile = defaultdict(lambda: defaultdict(int))\n",
    "    consensus = []\n",
    "    for i in range(len(dna_strings[0])):\n",
    "        # Count bases at position i\n",
    "        base_count = {\"A\": 0, \"C\": 0, \"G\": 0, \"T\": 0}\n",
    "        for dna in dna_strings:\n",
    "            base_count[dna[i]] += 1\n",
    "        # Update the profile matrix\n",
    "        for base, count in base_count.items():\n",
    "            profile[base][i] = count\n",
    "        # Find the most common base at position i for the consensus string\n",
    "        consensus.append(max(base_count, key=base_count.get))\n",
    "    return \"\".join(consensus), profile\n",
    "\n",
    "sample_data = \"\"\"\n",
    ">Rosalind_1\n",
    "ATCCAGCT\n",
    ">Rosalind_2\n",
    "GGGCAACT\n",
    ">Rosalind_3\n",
    "ATGGATCT\n",
    ">Rosalind_4\n",
    "AAGCAACC\n",
    ">Rosalind_5\n",
    "TTGGAACT\n",
    ">Rosalind_6\n",
    "ATGCCATT\n",
    ">Rosalind_7\n",
    "ATGGCACT\n",
    "\"\"\"\n",
    "\n",
    "dna_strings = parse_fasta(sample_data)\n",
    "consensus_str, profile_matrix = consensus_and_profile(list(dna_strings.values()))\n",
    "\n",
    "print(consensus_str)\n",
    "for base in \"ACGT\":\n",
    "    print(f\"{base}: {' '.join(map(str, profile_matrix[base].values()))}\")"
   ]
  }
 ],
 "metadata": {
  "kernelspec": {
   "display_name": "Python 3",
   "language": "python",
   "name": "python3"
  },
  "language_info": {
   "codemirror_mode": {
    "name": "ipython",
    "version": 3
   },
   "file_extension": ".py",
   "mimetype": "text/x-python",
   "name": "python",
   "nbconvert_exporter": "python",
   "pygments_lexer": "ipython3",
   "version": "3.9.5"
  },
  "orig_nbformat": 4
 },
 "nbformat": 4,
 "nbformat_minor": 2
}
