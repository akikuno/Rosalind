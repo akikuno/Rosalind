{
 "cells": [
  {
   "cell_type": "markdown",
   "metadata": {},
   "source": [
    "# Computing GC Content\n",
    "\n",
    "https://rosalind.info/problems/gc/\n",
    "\n",
    "## Problem\n",
    "\n",
    "\n",
    "## Sample Dataset\n",
    "```\n",
    "GATATATGCATATACTT\n",
    "ATAT\n",
    "```\n",
    "\n",
    "## Sample Output\n",
    "```\n",
    "2 4 10\n",
    "```"
   ]
  },
  {
   "cell_type": "markdown",
   "metadata": {},
   "source": [
    "## Python version info"
   ]
  },
  {
   "cell_type": "code",
   "execution_count": 13,
   "metadata": {},
   "outputs": [
    {
     "name": "stdout",
     "output_type": "stream",
     "text": [
      "3.9.13 (tags/v3.9.13:6de2ca5, May 17 2022, 16:36:42) [MSC v.1929 64 bit (AMD64)]\n"
     ]
    }
   ],
   "source": [
    "import sys\n",
    "print(sys.version)"
   ]
  },
  {
   "cell_type": "markdown",
   "metadata": {},
   "source": [
    "## Solutions"
   ]
  },
  {
   "cell_type": "markdown",
   "metadata": {},
   "source": [
    "### Simple solution"
   ]
  },
  {
   "cell_type": "code",
   "execution_count": 7,
   "metadata": {},
   "outputs": [
    {
     "name": "stdout",
     "output_type": "stream",
     "text": [
      "2 4 10\n"
     ]
    }
   ],
   "source": [
    "S = \"GATATATGCATATACTT\"\n",
    "T = \"ATAT\"\n",
    "\n",
    "ans = []\n",
    "for i, s in enumerate(S):\n",
    "    if s == T[0]:\n",
    "        if S[i:i+len(T)] == T:\n",
    "            ans.append(i+1)\n",
    "\n",
    "print(*ans)"
   ]
  },
  {
   "cell_type": "markdown",
   "metadata": {},
   "source": [
    "## Using lookahead regex"
   ]
  },
  {
   "cell_type": "code",
   "execution_count": 9,
   "metadata": {},
   "outputs": [
    {
     "name": "stdout",
     "output_type": "stream",
     "text": [
      "2 4 10\n"
     ]
    }
   ],
   "source": [
    "import re\n",
    "\n",
    "def subs(s, t):\n",
    "    \"\"\"\n",
    "    Given: Two DNA strings s and t.\n",
    "    Return: All locations of t as a substring of s.\n",
    "    \"\"\"\n",
    "    return [m.start() + 1 for m in re.finditer(f'(?={t})', s)]\n",
    "\n",
    "S = \"GATATATGCATATACTT\"\n",
    "T = \"ATAT\"\n",
    "\n",
    "print(*subs(S, T))"
   ]
  }
 ],
 "metadata": {
  "kernelspec": {
   "display_name": "Python 3",
   "language": "python",
   "name": "python3"
  },
  "language_info": {
   "codemirror_mode": {
    "name": "ipython",
    "version": 3
   },
   "file_extension": ".py",
   "mimetype": "text/x-python",
   "name": "python",
   "nbconvert_exporter": "python",
   "pygments_lexer": "ipython3",
   "version": "3.9.13"
  },
  "orig_nbformat": 4
 },
 "nbformat": 4,
 "nbformat_minor": 2
}
