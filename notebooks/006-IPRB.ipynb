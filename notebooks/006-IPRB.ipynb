{
 "cells": [
  {
   "cell_type": "markdown",
   "metadata": {},
   "source": [
    "# Mendel's First Law\n",
    "\n",
    "https://rosalind.info/problems/iprb/"
   ]
  },
  {
   "cell_type": "code",
   "execution_count": 2,
   "metadata": {},
   "outputs": [
    {
     "name": "stdout",
     "output_type": "stream",
     "text": [
      "3.9.5 (tags/v3.9.5:0a7dcbd, May  3 2021, 17:27:52) [MSC v.1928 64 bit (AMD64)]\n"
     ]
    }
   ],
   "source": [
    "import sys\n",
    "print(sys.version)"
   ]
  },
  {
   "cell_type": "markdown",
   "metadata": {},
   "source": [
    "## Solutions"
   ]
  },
  {
   "cell_type": "markdown",
   "metadata": {},
   "source": [
    "### Simple solution"
   ]
  },
  {
   "cell_type": "code",
   "execution_count": 3,
   "metadata": {},
   "outputs": [
    {
     "name": "stdout",
     "output_type": "stream",
     "text": [
      "0.7833333333333333\n"
     ]
    }
   ],
   "source": [
    "k, m, n = 2, 2, 2\n",
    "\n",
    "# Total population\n",
    "total = k + m + n\n",
    "\n",
    "# Probabilities for each genotype when two organisms mate:\n",
    "# DD x DD\n",
    "prob_DD_DD = (k/total) * ((k-1)/(total-1))\n",
    "# DD x Dd\n",
    "prob_DD_Dd = (k/total) * (m/(total-1)) + (m/total) * (k/(total-1))\n",
    "# DD x dd\n",
    "prob_DD_dd = (k/total) * (n/(total-1)) + (n/total) * (k/(total-1))\n",
    "# Dd x Dd\n",
    "prob_Dd_Dd = (m/total) * ((m-1)/(total-1))\n",
    "# Dd x dd\n",
    "prob_Dd_dd = (m/total) * (n/(total-1)) + (n/total) * (m/(total-1))\n",
    "# dd x dd\n",
    "prob_dd_dd = (n/total) * ((n-1)/(total-1))\n",
    "\n",
    "# Calculate the probability that an offspring has a dominant allele for each mating pair\n",
    "prob_dominant = (prob_DD_DD     # DD offspring\n",
    "                + prob_DD_Dd * 1 # DD or Dd offspring\n",
    "                + prob_DD_dd * 1 # Dd offspring\n",
    "                + prob_Dd_Dd * (0.75) # 25% DD, 50% Dd, 25% dd\n",
    "                + prob_Dd_dd * 0.5 # 50% Dd, 50% dd\n",
    "                + prob_dd_dd * 0) # all dd\n",
    "\n",
    "print(prob_dominant)\n"
   ]
  },
  {
   "cell_type": "markdown",
   "metadata": {},
   "source": [
    "### Using itertools.combinations"
   ]
  },
  {
   "cell_type": "code",
   "execution_count": 12,
   "metadata": {},
   "outputs": [
    {
     "name": "stdout",
     "output_type": "stream",
     "text": [
      "0.7833333333333333\n"
     ]
    }
   ],
   "source": [
    "k, m, n = 2, 2, 2\n",
    "\n",
    "from itertools import combinations\n",
    "\n",
    "# Calculate probability for offspring having a dominant allele for each pair\n",
    "def dominant_prob(pair):\n",
    "    pair_set = set(pair)\n",
    "    if pair_set in [{'DD'}, {'DD', 'Dd'}, {'DD', 'dd'}]:\n",
    "        return 1\n",
    "    elif pair_set == {'Dd'}:\n",
    "        return 0.75\n",
    "    elif pair_set == {'Dd', 'dd'}:\n",
    "        return 0.5\n",
    "    elif pair_set == {'dd'}:\n",
    "        return 0\n",
    "\n",
    "# Create a list representing the population\n",
    "population = ['DD'] * k + ['Dd'] * m + ['dd'] * n\n",
    "\n",
    "# Calculate the overall probability\n",
    "total_comb = len(list(combinations(population, 2)))\n",
    "prob_dominant_comb = sum(dominant_prob(pair) for pair in combinations(population, 2)) / total_comb\n",
    "\n",
    "print(prob_dominant_comb)\n"
   ]
  },
  {
   "cell_type": "code",
   "execution_count": null,
   "metadata": {},
   "outputs": [],
   "source": []
  }
 ],
 "metadata": {
  "kernelspec": {
   "display_name": "Python 3",
   "language": "python",
   "name": "python3"
  },
  "language_info": {
   "codemirror_mode": {
    "name": "ipython",
    "version": 3
   },
   "file_extension": ".py",
   "mimetype": "text/x-python",
   "name": "python",
   "nbconvert_exporter": "python",
   "pygments_lexer": "ipython3",
   "version": "3.9.5"
  },
  "orig_nbformat": 4
 },
 "nbformat": 4,
 "nbformat_minor": 2
}
